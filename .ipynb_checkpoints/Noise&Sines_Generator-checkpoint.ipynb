{
 "cells": [
  {
   "cell_type": "code",
   "execution_count": null,
   "metadata": {},
   "outputs": [],
   "source": [
    "import os\n",
    "import cv2\n",
    "import numpy as np\n",
    "import imageio as io\n",
    "from random import *\n",
    "import tifffile as tiff\n",
    "from matplotlib import pyplot as plt"
   ]
  },
  {
   "cell_type": "code",
   "execution_count": null,
   "metadata": {},
   "outputs": [],
   "source": [
    "# set image size here\n",
    "a = np.zeros((120,120))"
   ]
  },
  {
   "cell_type": "markdown",
   "metadata": {},
   "source": [
    "### Splitted Images into two halves"
   ]
  },
  {
   "cell_type": "code",
   "execution_count": null,
   "metadata": {},
   "outputs": [],
   "source": [
    "def splitted(lH = 40000, rH = 20000)\n",
    "    for i in range(0,60):\n",
    "        for j in range(0,120):\n",
    "            a[i,j] = lH #First Half Value\n",
    "\n",
    "    # Mask Right\n",
    "    for i in range(60,120):\n",
    "        for j in range(0,120):\n",
    "            a[i,j] = rH #Second Half Value"
   ]
  },
  {
   "cell_type": "markdown",
   "metadata": {},
   "source": [
    "### Sine Wave Images Generator"
   ]
  },
  {
   "cell_type": "code",
   "execution_count": null,
   "metadata": {},
   "outputs": [],
   "source": [
    "#base_line = baseline of the sine wave (Shift) --> Function = baseline + sin(Theta)\n",
    "#amp = amplitude of the wave\n",
    "#wl = wavelength of the wave\n",
    "def sineGen(base_line = 10000, amp = 2000, wl = 15):\n",
    "    slope = 1 # slope of wave\n",
    "    for i in range(0, 120):\n",
    "        for j in range(0, 120):\n",
    "            val = - i - slope * j\n",
    "            ph = (val % wl) * 2 * np.pi / wl\n",
    "            amplitude = amp * np.sin(ph)\n",
    "            a[i, j] = base_line + amplitude\n",
    "    return a"
   ]
  },
  {
   "cell_type": "markdown",
   "metadata": {},
   "source": [
    "### Possion Noise Addition"
   ]
  },
  {
   "cell_type": "code",
   "execution_count": null,
   "metadata": {},
   "outputs": [],
   "source": [
    "# factor --> Noise Level --> change the divison factor to change the noise levels\n",
    "def poison_noise(img_in, factor = 100.0):\n",
    "    #print()\n",
    "    img_in = img_in/factor \n",
    "    img_out = np.random.poisson(img_in)\n",
    "    img_out *= factor # change the same factor here\n",
    "    img_out = img_out.astype(np.uint16)\n",
    "    return img_out"
   ]
  },
  {
   "cell_type": "markdown",
   "metadata": {},
   "source": [
    "### Images Normalization"
   ]
  },
  {
   "cell_type": "code",
   "execution_count": null,
   "metadata": {},
   "outputs": [],
   "source": [
    "MAX_PIX = 69900 #maximum pixel value in dataset (Use it to normalize the images before saving)"
   ]
  }
 ],
 "metadata": {
  "kernelspec": {
   "display_name": "Python 3",
   "language": "python",
   "name": "python3"
  },
  "language_info": {
   "codemirror_mode": {
    "name": "ipython",
    "version": 3
   },
   "file_extension": ".py",
   "mimetype": "text/x-python",
   "name": "python",
   "nbconvert_exporter": "python",
   "pygments_lexer": "ipython3",
   "version": "3.6.8"
  }
 },
 "nbformat": 4,
 "nbformat_minor": 2
}
